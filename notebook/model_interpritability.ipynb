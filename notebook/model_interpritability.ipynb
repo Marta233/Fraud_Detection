{
 "cells": [
  {
   "cell_type": "code",
   "execution_count": 1,
   "metadata": {},
   "outputs": [
    {
     "ename": "",
     "evalue": "",
     "output_type": "error",
     "traceback": [
      "\u001b[1;31mFailed to start the Kernel. \n",
      "\u001b[1;31mUnable to start Kernel 'venv (Python 3.11.2)' due to a timeout waiting for the ports to get used. \n",
      "\u001b[1;31mView Jupyter <a href='command:jupyter.viewOutput'>log</a> for further details."
     ]
    }
   ],
   "source": [
    "import sys \n",
    "import pandas as pd\n",
    "sys.path.insert(0, '/10 A KAI 2/WEEK 8&9/Fraud_detection/')\n",
    "from sklearn.model_selection import train_test_split"
   ]
  },
  {
   "cell_type": "code",
   "execution_count": 2,
   "metadata": {},
   "outputs": [],
   "source": [
    "from script.model1 import FraudModel\n",
    "from script.Model_interpritability import ModelTrainer"
   ]
  },
  {
   "cell_type": "code",
   "execution_count": 3,
   "metadata": {},
   "outputs": [],
   "source": [
    "Data = pd.read_csv('../Data/merged.csv', index_col=0)"
   ]
  },
  {
   "cell_type": "code",
   "execution_count": 4,
   "metadata": {},
   "outputs": [],
   "source": [
    "Data = Data.drop(columns=['lower_bound_ip_address','upper_bound_ip_address','time_diff', 'transaction_count','signup_time','purchase_time' ,'user_transaction_frequency','device_transaction_frequency', 'user_transaction_velocity','device_transaction_velocity','device_id','ip_address', 'device_id_encoded'], axis=1)"
   ]
  },
  {
   "cell_type": "code",
   "execution_count": 5,
   "metadata": {},
   "outputs": [],
   "source": [
    "model = FraudModel(Data, dataset_name=\"Fraud\", source=\"Fraud Data Source\")\n",
    "# Create an instance of ModelTrainer"
   ]
  },
  {
   "cell_type": "code",
   "execution_count": 6,
   "metadata": {},
   "outputs": [],
   "source": [
    "df = model.fraud_preprocess()"
   ]
  },
  {
   "cell_type": "code",
   "execution_count": null,
   "metadata": {},
   "outputs": [],
   "source": [
    "X_train,y_train, X_test , y_test = model.apply_smote()"
   ]
  },
  {
   "cell_type": "code",
   "execution_count": null,
   "metadata": {},
   "outputs": [],
   "source": [
    "y_test"
   ]
  },
  {
   "cell_type": "code",
   "execution_count": null,
   "metadata": {},
   "outputs": [],
   "source": [
    "X_test"
   ]
  },
  {
   "cell_type": "code",
   "execution_count": 10,
   "metadata": {},
   "outputs": [],
   "source": [
    "# Initialize the ModelTrainer\n",
    "trainer = ModelTrainer(df)"
   ]
  },
  {
   "cell_type": "code",
   "execution_count": null,
   "metadata": {},
   "outputs": [],
   "source": [
    "trainer.load_model(\"MLP\", \"models/Fraud_Random_Forest.pkl\")  # Adjust the model path accordingly"
   ]
  },
  {
   "cell_type": "code",
   "execution_count": null,
   "metadata": {},
   "outputs": [],
   "source": [
    "# Generate LIME explanation for the first instance in the test set\n",
    "trainer.explain_with_lime(X_train, X_test)"
   ]
  },
  {
   "cell_type": "code",
   "execution_count": null,
   "metadata": {},
   "outputs": [],
   "source": [
    "# Explain with SHAP\n",
    "trainer.explain_with_shap(X_train)"
   ]
  },
  {
   "cell_type": "code",
   "execution_count": null,
   "metadata": {},
   "outputs": [],
   "source": [
    "# Example usage\n",
    "shap_values, sampled_indices = trainer.calculate_shap_values(X_test, sample_size=100)\n",
    "\n",
    "# Plot SHAP summary\n",
    "if isinstance(shap_values, list):\n",
    "    shap_values_to_plot = shap_values[1]  # Select the SHAP values for a specific class\n",
    "else:\n",
    "    shap_values_to_plot = shap_values"
   ]
  },
  {
   "cell_type": "code",
   "execution_count": null,
   "metadata": {},
   "outputs": [],
   "source": [
    "# Ensure the X_test passed to plot uses the same sampled indices\n",
    "trainer.plot_shap_summary(shap_values_to_plot, X_test.loc[sampled_indices])"
   ]
  },
  {
   "cell_type": "code",
   "execution_count": null,
   "metadata": {},
   "outputs": [],
   "source": [
    "\n",
    "# Plot Force Plot for the first instance\n",
    "trainer.plot_force(shap_values, X_test.loc[sampled_indices], index=0)"
   ]
  },
  {
   "cell_type": "code",
   "execution_count": null,
   "metadata": {},
   "outputs": [],
   "source": [
    "# Plot Dependence Plot for a specific feature (e.g., 'feature_name')\n",
    "trainer.plot_dependence(shap_values, X_test.loc[sampled_indices], feature_name='purchase_value')  # Replace with your feature name"
   ]
  }
 ],
 "metadata": {
  "kernelspec": {
   "display_name": "venv",
   "language": "python",
   "name": "python3"
  },
  "language_info": {
   "codemirror_mode": {
    "name": "ipython",
    "version": 3
   },
   "file_extension": ".py",
   "mimetype": "text/x-python",
   "name": "python",
   "nbconvert_exporter": "python",
   "pygments_lexer": "ipython3",
   "version": "3.11.2"
  }
 },
 "nbformat": 4,
 "nbformat_minor": 2
}
