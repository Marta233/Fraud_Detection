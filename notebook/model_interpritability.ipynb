{
 "cells": [
  {
   "cell_type": "code",
   "execution_count": 5,
   "metadata": {},
   "outputs": [],
   "source": [
    "import sys \n",
    "import pandas as pd\n",
    "sys.path.insert(0, '/10 A KAI 2/WEEK 8&9/Fraud_detection/')\n",
    "from sklearn.model_selection import train_test_split"
   ]
  },
  {
   "cell_type": "code",
   "execution_count": 6,
   "metadata": {},
   "outputs": [
    {
     "ename": "ModuleNotFoundError",
     "evalue": "No module named 'script.Model_interpritability'",
     "output_type": "error",
     "traceback": [
      "\u001b[1;31m---------------------------------------------------------------------------\u001b[0m",
      "\u001b[1;31mModuleNotFoundError\u001b[0m                       Traceback (most recent call last)",
      "Cell \u001b[1;32mIn[6], line 2\u001b[0m\n\u001b[0;32m      1\u001b[0m \u001b[38;5;28;01mfrom\u001b[39;00m \u001b[38;5;21;01mscript\u001b[39;00m\u001b[38;5;21;01m.\u001b[39;00m\u001b[38;5;21;01mmodel1\u001b[39;00m \u001b[38;5;28;01mimport\u001b[39;00m FraudModel\n\u001b[1;32m----> 2\u001b[0m \u001b[38;5;28;01mfrom\u001b[39;00m \u001b[38;5;21;01mscript\u001b[39;00m\u001b[38;5;21;01m.\u001b[39;00m\u001b[38;5;21;01mModel_interpritability\u001b[39;00m \u001b[38;5;28;01mimport\u001b[39;00m ModelTrainer\n",
      "\u001b[1;31mModuleNotFoundError\u001b[0m: No module named 'script.Model_interpritability'"
     ]
    }
   ],
   "source": [
    "from script.model1 import FraudModel\n",
    "from script.Model_interpritability import ModelTrainer"
   ]
  },
  {
   "cell_type": "code",
   "execution_count": 3,
   "metadata": {},
   "outputs": [],
   "source": [
    "Data = pd.read_csv('../Data/merged.csv', index_col=0)"
   ]
  },
  {
   "cell_type": "code",
   "execution_count": 4,
   "metadata": {},
   "outputs": [],
   "source": [
    "Data = Data.drop(columns=['lower_bound_ip_address','upper_bound_ip_address','time_diff', 'transaction_count','signup_time','purchase_time' ,'user_transaction_frequency','device_transaction_frequency', 'user_transaction_velocity','device_transaction_velocity','device_id','ip_address', 'device_id_encoded'], axis=1)"
   ]
  },
  {
   "cell_type": "code",
   "execution_count": 5,
   "metadata": {},
   "outputs": [],
   "source": [
    "model = FraudModel(Data, dataset_name=\"Fraud\", source=\"Fraud Data Source\")\n",
    "# Create an instance of ModelTrainer"
   ]
  },
  {
   "cell_type": "code",
   "execution_count": 6,
   "metadata": {},
   "outputs": [],
   "source": [
    "df = model.fraud_preprocess()"
   ]
  },
  {
   "cell_type": "code",
   "execution_count": null,
   "metadata": {},
   "outputs": [],
   "source": [
    "X_train,y_train, X_test , y_test = model.apply_smote()"
   ]
  },
  {
   "cell_type": "code",
   "execution_count": null,
   "metadata": {},
   "outputs": [],
   "source": [
    "y_test"
   ]
  },
  {
   "cell_type": "code",
   "execution_count": null,
   "metadata": {},
   "outputs": [],
   "source": [
    "X_test"
   ]
  },
  {
   "cell_type": "code",
   "execution_count": 10,
   "metadata": {},
   "outputs": [],
   "source": [
    "# Initialize the ModelTrainer\n",
    "trainer = ModelTrainer(df)"
   ]
  },
  {
   "cell_type": "code",
   "execution_count": null,
   "metadata": {},
   "outputs": [],
   "source": [
    "trainer.load_model(\"MLP\", \"models/Fraud_Random_Forest.pkl\")  # Adjust the model path accordingly"
   ]
  },
  {
   "cell_type": "code",
   "execution_count": null,
   "metadata": {},
   "outputs": [],
   "source": [
    "# Generate LIME explanation for the first instance in the test set\n",
    "trainer.explain_with_lime(X_train, X_test)"
   ]
  },
  {
   "cell_type": "code",
   "execution_count": null,
   "metadata": {},
   "outputs": [],
   "source": [
    "# Explain with SHAP\n",
    "trainer.explain_with_shap(X_train)"
   ]
  },
  {
   "cell_type": "code",
   "execution_count": null,
   "metadata": {},
   "outputs": [],
   "source": [
    "# Example usage\n",
    "shap_values, sampled_indices = trainer.calculate_shap_values(X_test, sample_size=100)\n",
    "\n",
    "# Plot SHAP summary\n",
    "if isinstance(shap_values, list):\n",
    "    shap_values_to_plot = shap_values[1]  # Select the SHAP values for a specific class\n",
    "else:\n",
    "    shap_values_to_plot = shap_values"
   ]
  },
  {
   "cell_type": "code",
   "execution_count": null,
   "metadata": {},
   "outputs": [],
   "source": [
    "# Ensure the X_test passed to plot uses the same sampled indices\n",
    "trainer.plot_shap_summary(shap_values_to_plot, X_test.loc[sampled_indices])"
   ]
  },
  {
   "cell_type": "code",
   "execution_count": null,
   "metadata": {},
   "outputs": [],
   "source": [
    "\n",
    "# Plot Force Plot for the first instance\n",
    "trainer.plot_force(shap_values, X_test.loc[sampled_indices], index=0)"
   ]
  },
  {
   "cell_type": "code",
   "execution_count": null,
   "metadata": {},
   "outputs": [],
   "source": [
    "# Plot Dependence Plot for a specific feature (e.g., 'feature_name')\n",
    "trainer.plot_dependence(shap_values, X_test.loc[sampled_indices], feature_name='purchase_value')  # Replace with your feature name"
   ]
  }
 ],
 "metadata": {
  "kernelspec": {
   "display_name": "venv",
   "language": "python",
   "name": "python3"
  },
  "language_info": {
   "codemirror_mode": {
    "name": "ipython",
    "version": 3
   },
   "file_extension": ".py",
   "mimetype": "text/x-python",
   "name": "python",
   "nbconvert_exporter": "python",
   "pygments_lexer": "ipython3",
   "version": "3.11.2"
  }
 },
 "nbformat": 4,
 "nbformat_minor": 2
}
